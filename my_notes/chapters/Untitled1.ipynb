{
 "cells": [
  {
   "cell_type": "markdown",
   "metadata": {},
   "source": [
    "# Complex numbers\n",
    "## Polar reprsentation of complex numbers\n",
    "\n",
    "$$\n",
    "z=x+yi\n",
    "$$\n",
    "\n",
    "We can describe $z$ in **Polar Cordinates** $(r, \\theta)$ where $r$ is the distance from the origin $r=|z|$ and the angle $\\theta$ between the posative $x-axis$ and the line segment from $z$.\n",
    "The relation between the **Cartesian** and **Polar Cordinates**:\n",
    "\n",
    "$$\n",
    "\\begin{align}\n",
    "x = r \\cos \\theta \\\\\n",
    "y = r \\sin \\theta\n",
    "\\end{align}\n",
    "$$\n",
    "\n",
    "Thus:\n",
    "\n",
    "$$\n",
    "\\begin{align}\n",
    "z=r\\cos \\theta + r \\sin \\theta i \\\\\n",
    "= r(\\cos \\theta + \\sin \\theta i)\n",
    "\\end{align}\n",
    "$$\n",
    "\n",
    "Note that $|z|$ is easy to find, but $\\theta$ is not unique since $\\sin$ and $\\cos$ are periodic, say $\\theta = 45 = \\dfrac{\\pi}{4} = 2\\pi+\\dfrac{\\pi}{4}, \\cdots$ thus we need to to find the a specific angle  and that's called the **Principle Argument** of $z$."
   ]
  },
  {
   "cell_type": "markdown",
   "metadata": {},
   "source": [
    ":::{admonition,tip} Definition:\n",
    "The **Principle Argument** of $z$ $Arg(z)$ is the value if $\\theta$ for which $-\\pi < \\theta \\leq x$\n",
    ":::"
   ]
  },
  {
   "cell_type": "markdown",
   "metadata": {},
   "source": [
    "`Plot Place holder`"
   ]
  },
  {
   "cell_type": "markdown",
   "metadata": {},
   "source": [
    ":::{admonition,note} Example:   \n",
    "Let $z \\in \\mathbb{C}$ where the polar representation is $(r, \\theta) = (1, \\frac{\\pi}{4})$. Find the Cartesian Cordinates of $z$, that is find $x$ and $y$ such that $z=x+yi$.\n",
    "\n",
    "**Solution:**\n",
    "\\begin{align*}\n",
    "z=r(\\cos \\theta + \\sin \\theta)\\\\\n",
    "|r| = \\sqrt{x^2 + y^2} = 1\\\\\n",
    "x = r \\cos \\theta = \\cos \\dfrac{\\pi}{4} = \\dfrac{\\sqrt{2}}{2}\\\\\n",
    "y = r \\sin \\theta = \\sin \\dfrac{\\pi}{4} = \\dfrac{\\sqrt{2}}{2}i\\\\\n",
    "\\end{align*}\n",
    ":::"
   ]
  },
  {
   "cell_type": "markdown",
   "metadata": {},
   "source": [
    ":::{admonition,note} Example:   \n",
    "Let $z \\in \\mathbb{C}$ where the polar representation is $(r, \\theta) = (3, \\frac{7\\pi}{4})$. Find the Cartesian Cordinates of $z$, that is find $x$ and $y$ such that $z=x+yi$.\n",
    "    \n",
    "**Solution:**\n",
    "\\begin{align*}\n",
    "z=r(\\cos \\theta + \\sin \\theta)\\\\\n",
    "|r| = \\sqrt{x^2 + y^2} = 1\\\\\n",
    "x = r \\cos \\theta = 3 \\cos \\dfrac{7\\pi}{4} = \\dfrac{3}{\\sqrt{2}}\\\\\n",
    "y = r \\sin \\theta = 3 \\sin \\dfrac{7\\pi}{4} = -\\dfrac{3}{\\sqrt{2}}i\\\\\n",
    "\\end{align*}\n",
    ":::"
   ]
  },
  {
   "cell_type": "markdown",
   "metadata": {},
   "source": [
    "$arg \\, z = \\{Arg Z  + 2\\pi k:k=0, \\pm 1, \\pm 2, \\cdots, z \\neq 0\\}$ \n",
    "The difference between the argument of $z$ $arg\\,z$ and the Principle Argument of $z$ and $Arg\\,z$ is that $Arg \\, z$ is between $-\\pi < \\theta \\leq \\pi$ and $arg\\,z$ is any value as multiple of $\\pi$.\n",
    "\n",
    ":::{admonition,note} Example:   \n",
    "\\begin{align}\n",
    "&Arg(i) = \\dfrac{\\pi}{2}\\\\\n",
    "&Arg(1) = 0\\\\\n",
    "&Arg(-1) = \\pi\\\\\n",
    "&Arg(1-i) = -\\dfrac{\\pi}{4}\\\\\n",
    "&Arg(-i) = -\\dfrac{\\pi}{2}, \\dots\n",
    "\\end{align}\n",
    "\n",
    "\n",
    "`add plot here`"
   ]
  },
  {
   "cell_type": "markdown",
   "metadata": {},
   "source": [
    ":::{admonition,note} Example:   \n",
    "What is the principle argument of:\n",
    "\\begin{align}\n",
    "&Arg(\\cos\\dfrac{12\\pi}{4} + \\sin\\dfrac{12\\pi}{4}i)\\\\\n",
    "&Arg(\\cos\\dfrac{-\\pi}{18} + \\sin\\dfrac{-\\pi}{18}i)\\\\\n",
    "&Arg(\\cos\\dfrac{\\pi}{3} + \\sin\\dfrac{\\pi}{3}i)\\\\\n",
    "&Arg(\\cos\\dfrac{-\\pi}{18} + \\sin\\dfrac{-\\pi}{18}i)\n",
    "\\end{align}\n",
    "\n",
    "**Solution:**\n",
    "\\begin{align}\n",
    "&\\cos\\dfrac{12\\pi}{4} = -1\\\\\n",
    "&\\sin\\dfrac{12\\pi}{4} = 0\\\\\n",
    "\\end{align}\n",
    "\n",
    "\\begin{align}\n",
    "&\\cos\\dfrac{-\\pi}{18} = \\cos -10\\\\\n",
    "&\\sin\\dfrac{-\\pi}{18} = \\sin -10\\\\\n",
    "\\end{align}\n",
    ":::\n",
    "\n",
    "`add plot here`"
   ]
  },
  {
   "cell_type": "markdown",
   "metadata": {},
   "source": [
    "Since $\\exp(i \\theta) = \\cos \\theta + \\sin \\theta i$ thus $z=r\\exp(i\\theta)$ note that $\\exp(i(\\theta+2\\pi)) = \\exp(i\\theta)) = \\exp(i(\\theta+4\\pi)) = \\cdots = \\exp(i(\\theta+2\\pi k))\\quad \\text{ where } k \\in \\mathcal{z}$\n",
    "\n",
    "\n",
    "\\begin{align}\n",
    "&\\exp(i\\dfrac{\\pi}{2}) = i\\\\\n",
    "&\\exp(i\\pi) = -1\\\\\n",
    "&\\exp(i\\dfrac{\\pi}{4}) = \\dfrac{1}{\\sqrt{2}}\\\\\n",
    "&\\exp(i2\\pi ) = 1\\\\\n",
    "&\\cdots\\\\\n",
    "\\end{align}\n",
    "\n",
    "\n",
    "We can find the inverse of complex number:\n",
    "\n",
    "\\begin{align}\n",
    "\\dfrac{1}{\\exp(i\\theta)} &= \\dfrac{\\overline{ \\exp(i\\theta) }} {\\exp(i\\theta) \\overline{\\exp(i\\theta)}}\\\\\n",
    "&=\\dfrac{\\exp(-i\\theta)}{\\exp(i\\theta)\\exp(-i\\theta)} = \\exp(-i\\theta)\n",
    "\\end{align}\n",
    "\n",
    "$$\n",
    "\\exp((\\theta+\\varphi)i)=\\exp(i\\theta)+\\exp(i\\varphi)\n",
    "$$\n",
    "$$\n",
    "|\\exp(i\\theta)|=1\n",
    "$$\n",
    "\n",
    "where the overline $\\overline{a+b\\rm{i}}$ means complex conjugate\n",
    "\n",
    "\\begin{align}\n",
    "\\overline{\\exp(i\\theta)}&= \\cos \\theta - \\sin \\theta i\\\\\n",
    "&= cos \\theta + sin (-\\theta i)\\\\\n",
    "&= cos (-\\theta) + sin (-\\theta i)\\\\\n",
    "\\end{align}\n",
    "\n"
   ]
  },
  {
   "cell_type": "markdown",
   "metadata": {},
   "source": [
    ":::{admonition,note} Example:   \n",
    "Find $\\dfrac{1}{z}$ where $z = \\exp(\\dfrac{\\pi}{2}i)$.\n",
    "\n",
    "**Solution:**\n",
    "\\begin{align*}\n",
    "\\dfrac{1}{z}&=\\dfrac{\\overline{z}}{z \\cdot \\overline{z}}\\\\\n",
    "&=\\dfrac{\\exp(-\\frac{\\pi}{2}i)}{\\exp(\\frac{\\pi}{2}i)\\cdot \\exp(-\\frac{\\pi}{2}i)}\\\\\n",
    "&= \\exp(-\\frac{\\pi}{2}i)\n",
    "\\end{align*}\n",
    ":::"
   ]
  },
  {
   "cell_type": "markdown",
   "metadata": {},
   "source": [
    ":::{admonition,note} Example:   \n",
    "Suppose that $z_1 = \\dfrac{\\sqrt{2}}{2} + \\dfrac{\\sqrt{2}}{2}i$ and  $z_2 = \\dfrac{1}{2} + \\dfrac{\\sqrt{3}}{2}i$\n",
    "\n",
    "Find $z_1\\cdot z_2$.\n",
    "\n",
    "**Solution:**\n",
    "First we need to convert to polar coordinates:\n",
    "\\begin{align}\n",
    "r &= \\sqrt{\\left(\\dfrac{\\sqrt{2}}{2}\\right)^2+\\left(\\dfrac{\\sqrt{2}}{2}\\right)^2}=1\\\\\n",
    "\\theta  &= \\tan^{-1} \\dfrac{x}{y}\\\\\n",
    "&= \\tan^{-1} \\dfrac{\\frac{\\sqrt{2}}{2}}{\\frac{\\sqrt{2}}{2}} = \\dfrac{\\pi}{4}\n",
    "\\end{align}\n",
    "\n",
    "\\begin{align}\n",
    "z_1 &= \\exp(\\frac{pi}{4}i)\\\\\n",
    "z_2 &= \\exp(\\frac{pi}{3}i)\\\\\n",
    "z_1 \\cdot z_2 &= \\exp((\\frac{\\pi}{4}+\\frac{\\pi}{3})i)\\\\ \n",
    "&= \\exp{\\frac{7\\pi}{12}i}\n",
    "\\end{align}\n",
    ":::"
   ]
  },
  {
   "cell_type": "markdown",
   "metadata": {},
   "source": [
    "### The argument of $z$\n",
    "\\begin{align}\n",
    "arg(\\overline{z}) &= -arg(z)\\\\\n",
    "arg(\\dfrac{1}{z}) &= -arg(z)\\\\\n",
    "arg(z_1 \\cdot z_2) &= arg(z_1) + arg(z_2)\\\\\n",
    "\\end{align}"
   ]
  },
  {
   "cell_type": "markdown",
   "metadata": {},
   "source": [
    "#### Some equalities\n",
    "\\begin{align}\n",
    "&arg(i^2) = arg(-1) = \\pi\\\\\n",
    "&arg(\\dfrac{\\pi}{2}) = arg(\\dfrac{\\pi}{2}) = \\pi\\\\\n",
    "&arg(-1^2)=arg(1)=0\\\\\n",
    "&arg(-1)+arg(-1)= \\pi + \\pi =2\\pi\n",
    "\\end{align}\n",
    "\n",
    "We notice that the equality is held only for some argument and for some other arguments \n",
    "is held by adding $\\mod(2\\pi)$\n"
   ]
  },
  {
   "cell_type": "markdown",
   "metadata": {},
   "source": [
    "## De Moivre's formula"
   ]
  },
  {
   "cell_type": "markdown",
   "metadata": {},
   "source": [
    "$$\\exp(i\\theta)^n = \\exp(i n \\theta) = (\\cos \\theta + \\sin \\theta i)^n = \\cos n\\theta + \\sin n\\theta i$$\n",
    "\n",
    "Note that $\\exp(i\\theta)\\cdot \\exp(i\\theta) = \\exp((\\theta + \\theta)i) = \\exp(2\\theta i)$ and $\\exp(i\\theta)^3=\\exp(3\\theta i)$.\n",
    "The formula also hold for negative numbers. This formula is amazing since it help us deduce facts about the $\\sin$ and $\\cos$ functions, such consequences of De Moivre's formula we can use it to derive equations for the $\\sin$ and $\\cos$ let $n=3$\n",
    "\n",
    "$$\n",
    "\\cos 3\\theta = \\cos^3 \\theta\n",
    "$$\n",
    "\n",
    "remember that $(a+b)^3=a^3 + 3a^2b + 3ab^2 + b^3$, we can apply it here:\n",
    "\n",
    "$$\n",
    "(\\cos \\theta + \\sin i\\theta)^3 = \\cos^3 \\theta + 3\\cos^2 \\sin i\\theta - 3\\cos \\theta \\sin^2 \\theta + \\sin^3 i\\theta\n",
    "$$\n",
    "\n",
    "Thus:\n",
    "\n",
    "$$\n",
    "\\cos 3\\theta = \\cos^3 \\theta - 3 \\cos \\theta \\sin^2 \\theta\n",
    "$$\n",
    "$$\n",
    "\\sin 3\\theta = -\\sin^3 \\theta + 3 \\cos^2 \\theta \\sin \\theta\n",
    "$$"
   ]
  },
  {
   "cell_type": "markdown",
   "metadata": {},
   "source": [
    ":::{admonition,note} Example:   \n",
    "Find $(1+i)^{20}$\n",
    "\n",
    "**Solution:**\n",
    "\\begin{align*}\n",
    "r &= \\sqrt{1 + i} = \\sqrt{2}\\\\\n",
    "\\theta &= \\tan^{-1} \\frac{1}{1} = \\frac{\\pi}{4}\\\\\n",
    "(1+i)^{20} &= \\sqrt{2}^20 \\cos 20 \\cdot \\frac{\\pi}{4} + \\sqrt{2} \\sin \\frac{\\pi}{4}i\\\\ \n",
    "&=-1024\n",
    "\\end{align*}\n",
    ":::"
   ]
  },
  {
   "cell_type": "markdown",
   "metadata": {},
   "source": [
    "## Roots of complex numbers\n",
    ":::{admonition,tip} Definition:\n",
    "Let $w \\in \\mathbb{C}$. An $n^{th}$ root of $w$ is a complex number $z$ such that $z^n = w$\n",
    ":::\n",
    "\n",
    "We notice that if $w\\neq 0$ there are exactly $n$ distinct $n^{th}$ roots. We use the Polar form for $w$ and $z$:\n",
    "\\begin{align}\n",
    "w &= \\rho\\exp(\\varphi i)\\\\\n",
    "z &=  r \\exp(\\theta i)\n",
    "\\end{align}\n",
    "Thus the equation $z^n=w$ becomes:\n",
    "\\begin{align}\n",
    "r^n \\exp(n \\theta i) &= \\rho \\exp(\\varphi i)\\\\\n",
    "r^n &= \\rho\\\\\n",
    "\\exp(n \\theta i) &= \\exp(\\varphi i)\n",
    "\\end{align}\n",
    "\n",
    "We notice that the angle $\\exp(n\\theta i)$ should equal to $\\exp(i\\varphi)$ or multiples of $\\pi$ such that $n\\theta = \\varphi + 2k\\pi$ thus $r=\\sqrt[n]{p}$ and $n \\theta = \\varphi + 2k\\pi, \\quad k \\in \\mathbb{Z}$, so $\\theta=\\dfrac{\\varphi}{n}+\\dfrac{2k\\pi}{n}, \\quad k=0,1,\\cdots, n-1$, such that when $k-n$ we get $\\theta = \\dfrac{\\varphi}{2}+2\\pi$, thus we get our solution by writing:\n",
    "\n",
    "$$\n",
    "w^{\\frac{1}{n}}= \\sqrt[n]{\\rho}\\cdot \\exp(\\frac{\\varphi}{n}+\\frac{2k\\pi}{n}i), \\quad k=0,1,\\cdots, n-1\n",
    "$$\n",
    "\n",
    "One special root is the **Principle $n^{th}$ root** of $w$ by choosing $\\varphi = Arg(w)$ and $k=0$ we obtain:\n",
    "$$\n",
    "w= \\sqrt[n]{\\rho}.\\exp(\\frac{Arg(w)}{n}i)\n",
    "$$"
   ]
  },
  {
   "cell_type": "markdown",
   "metadata": {},
   "source": [
    ":::{admonition,note} Example:   \n",
    "Find the radius of all cubed roots of $5+10i$\n",
    "**Solution:**\n",
    ":::"
   ]
  },
  {
   "cell_type": "code",
   "execution_count": null,
   "metadata": {},
   "outputs": [],
   "source": []
  }
 ],
 "metadata": {
  "kernelspec": {
   "display_name": "Python 3",
   "language": "python",
   "name": "python3"
  },
  "language_info": {
   "codemirror_mode": {
    "name": "ipython",
    "version": 3
   },
   "file_extension": ".py",
   "mimetype": "text/x-python",
   "name": "python",
   "nbconvert_exporter": "python",
   "pygments_lexer": "ipython3",
   "version": "3.8.6"
  }
 },
 "nbformat": 4,
 "nbformat_minor": 4
}
